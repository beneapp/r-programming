{
 "cells": [
  {
   "cell_type": "markdown",
   "metadata": {},
   "source": [
    "# R 내장 함수, 변수 타입과 데이터 구조\n",
    "## R 내장 함수로 데이터 추출하기\n",
    "### 행 번호로 행 추출하기"
   ]
  },
  {
   "cell_type": "code",
   "execution_count": 1,
   "metadata": {},
   "outputs": [],
   "source": [
    "exam <- read.csv('data/csv_exam.csv')"
   ]
  },
  {
   "cell_type": "code",
   "execution_count": 2,
   "metadata": {},
   "outputs": [
    {
     "data": {
      "text/html": [
       "<table>\n",
       "<thead><tr><th scope=col>id</th><th scope=col>class</th><th scope=col>math</th><th scope=col>english</th><th scope=col>science</th></tr></thead>\n",
       "<tbody>\n",
       "\t<tr><td> 1</td><td>1 </td><td>50</td><td>98</td><td>50</td></tr>\n",
       "\t<tr><td> 2</td><td>1 </td><td>60</td><td>97</td><td>60</td></tr>\n",
       "\t<tr><td> 3</td><td>1 </td><td>45</td><td>86</td><td>78</td></tr>\n",
       "\t<tr><td> 4</td><td>1 </td><td>30</td><td>98</td><td>58</td></tr>\n",
       "\t<tr><td> 5</td><td>2 </td><td>25</td><td>80</td><td>65</td></tr>\n",
       "\t<tr><td> 6</td><td>2 </td><td>50</td><td>89</td><td>98</td></tr>\n",
       "\t<tr><td> 7</td><td>2 </td><td>80</td><td>90</td><td>45</td></tr>\n",
       "\t<tr><td> 8</td><td>2 </td><td>90</td><td>78</td><td>25</td></tr>\n",
       "\t<tr><td> 9</td><td>3 </td><td>20</td><td>98</td><td>15</td></tr>\n",
       "\t<tr><td>10</td><td>3 </td><td>50</td><td>98</td><td>45</td></tr>\n",
       "\t<tr><td>11</td><td>3 </td><td>65</td><td>65</td><td>65</td></tr>\n",
       "\t<tr><td>12</td><td>3 </td><td>45</td><td>85</td><td>32</td></tr>\n",
       "\t<tr><td>13</td><td>4 </td><td>46</td><td>98</td><td>65</td></tr>\n",
       "\t<tr><td>14</td><td>4 </td><td>48</td><td>87</td><td>12</td></tr>\n",
       "\t<tr><td>15</td><td>4 </td><td>75</td><td>56</td><td>78</td></tr>\n",
       "\t<tr><td>16</td><td>4 </td><td>58</td><td>98</td><td>65</td></tr>\n",
       "\t<tr><td>17</td><td>5 </td><td>65</td><td>68</td><td>98</td></tr>\n",
       "\t<tr><td>18</td><td>5 </td><td>80</td><td>78</td><td>90</td></tr>\n",
       "\t<tr><td>19</td><td>5 </td><td>89</td><td>68</td><td>87</td></tr>\n",
       "\t<tr><td>20</td><td>5 </td><td>78</td><td>83</td><td>58</td></tr>\n",
       "</tbody>\n",
       "</table>\n"
      ],
      "text/latex": [
       "\\begin{tabular}{r|lllll}\n",
       " id & class & math & english & science\\\\\n",
       "\\hline\n",
       "\t  1 & 1  & 50 & 98 & 50\\\\\n",
       "\t  2 & 1  & 60 & 97 & 60\\\\\n",
       "\t  3 & 1  & 45 & 86 & 78\\\\\n",
       "\t  4 & 1  & 30 & 98 & 58\\\\\n",
       "\t  5 & 2  & 25 & 80 & 65\\\\\n",
       "\t  6 & 2  & 50 & 89 & 98\\\\\n",
       "\t  7 & 2  & 80 & 90 & 45\\\\\n",
       "\t  8 & 2  & 90 & 78 & 25\\\\\n",
       "\t  9 & 3  & 20 & 98 & 15\\\\\n",
       "\t 10 & 3  & 50 & 98 & 45\\\\\n",
       "\t 11 & 3  & 65 & 65 & 65\\\\\n",
       "\t 12 & 3  & 45 & 85 & 32\\\\\n",
       "\t 13 & 4  & 46 & 98 & 65\\\\\n",
       "\t 14 & 4  & 48 & 87 & 12\\\\\n",
       "\t 15 & 4  & 75 & 56 & 78\\\\\n",
       "\t 16 & 4  & 58 & 98 & 65\\\\\n",
       "\t 17 & 5  & 65 & 68 & 98\\\\\n",
       "\t 18 & 5  & 80 & 78 & 90\\\\\n",
       "\t 19 & 5  & 89 & 68 & 87\\\\\n",
       "\t 20 & 5  & 78 & 83 & 58\\\\\n",
       "\\end{tabular}\n"
      ],
      "text/markdown": [
       "\n",
       "id | class | math | english | science | \n",
       "|---|---|---|---|---|---|---|---|---|---|---|---|---|---|---|---|---|---|---|---|\n",
       "|  1 | 1  | 50 | 98 | 50 | \n",
       "|  2 | 1  | 60 | 97 | 60 | \n",
       "|  3 | 1  | 45 | 86 | 78 | \n",
       "|  4 | 1  | 30 | 98 | 58 | \n",
       "|  5 | 2  | 25 | 80 | 65 | \n",
       "|  6 | 2  | 50 | 89 | 98 | \n",
       "|  7 | 2  | 80 | 90 | 45 | \n",
       "|  8 | 2  | 90 | 78 | 25 | \n",
       "|  9 | 3  | 20 | 98 | 15 | \n",
       "| 10 | 3  | 50 | 98 | 45 | \n",
       "| 11 | 3  | 65 | 65 | 65 | \n",
       "| 12 | 3  | 45 | 85 | 32 | \n",
       "| 13 | 4  | 46 | 98 | 65 | \n",
       "| 14 | 4  | 48 | 87 | 12 | \n",
       "| 15 | 4  | 75 | 56 | 78 | \n",
       "| 16 | 4  | 58 | 98 | 65 | \n",
       "| 17 | 5  | 65 | 68 | 98 | \n",
       "| 18 | 5  | 80 | 78 | 90 | \n",
       "| 19 | 5  | 89 | 68 | 87 | \n",
       "| 20 | 5  | 78 | 83 | 58 | \n",
       "\n",
       "\n"
      ],
      "text/plain": [
       "   id class math english science\n",
       "1   1 1     50   98      50     \n",
       "2   2 1     60   97      60     \n",
       "3   3 1     45   86      78     \n",
       "4   4 1     30   98      58     \n",
       "5   5 2     25   80      65     \n",
       "6   6 2     50   89      98     \n",
       "7   7 2     80   90      45     \n",
       "8   8 2     90   78      25     \n",
       "9   9 3     20   98      15     \n",
       "10 10 3     50   98      45     \n",
       "11 11 3     65   65      65     \n",
       "12 12 3     45   85      32     \n",
       "13 13 4     46   98      65     \n",
       "14 14 4     48   87      12     \n",
       "15 15 4     75   56      78     \n",
       "16 16 4     58   98      65     \n",
       "17 17 5     65   68      98     \n",
       "18 18 5     80   78      90     \n",
       "19 19 5     89   68      87     \n",
       "20 20 5     78   83      58     "
      ]
     },
     "metadata": {},
     "output_type": "display_data"
    }
   ],
   "source": [
    "exam[]"
   ]
  },
  {
   "cell_type": "code",
   "execution_count": 5,
   "metadata": {},
   "outputs": [
    {
     "data": {
      "text/html": [
       "<table>\n",
       "<thead><tr><th scope=col>id</th><th scope=col>class</th><th scope=col>math</th><th scope=col>english</th><th scope=col>science</th></tr></thead>\n",
       "<tbody>\n",
       "\t<tr><td>1 </td><td>1 </td><td>50</td><td>98</td><td>50</td></tr>\n",
       "</tbody>\n",
       "</table>\n"
      ],
      "text/latex": [
       "\\begin{tabular}{r|lllll}\n",
       " id & class & math & english & science\\\\\n",
       "\\hline\n",
       "\t 1  & 1  & 50 & 98 & 50\\\\\n",
       "\\end{tabular}\n"
      ],
      "text/markdown": [
       "\n",
       "id | class | math | english | science | \n",
       "|---|\n",
       "| 1  | 1  | 50 | 98 | 50 | \n",
       "\n",
       "\n"
      ],
      "text/plain": [
       "  id class math english science\n",
       "1 1  1     50   98      50     "
      ]
     },
     "metadata": {},
     "output_type": "display_data"
    }
   ],
   "source": [
    "exam[1, ] # 1행 추출"
   ]
  },
  {
   "cell_type": "code",
   "execution_count": 6,
   "metadata": {},
   "outputs": [
    {
     "data": {
      "text/html": [
       "<table>\n",
       "<thead><tr><th></th><th scope=col>id</th><th scope=col>class</th><th scope=col>math</th><th scope=col>english</th><th scope=col>science</th></tr></thead>\n",
       "<tbody>\n",
       "\t<tr><th scope=row>2</th><td>2 </td><td>1 </td><td>60</td><td>97</td><td>60</td></tr>\n",
       "</tbody>\n",
       "</table>\n"
      ],
      "text/latex": [
       "\\begin{tabular}{r|lllll}\n",
       "  & id & class & math & english & science\\\\\n",
       "\\hline\n",
       "\t2 & 2  & 1  & 60 & 97 & 60\\\\\n",
       "\\end{tabular}\n"
      ],
      "text/markdown": [
       "\n",
       "| <!--/--> | id | class | math | english | science | \n",
       "|---|\n",
       "| 2 | 2  | 1  | 60 | 97 | 60 | \n",
       "\n",
       "\n"
      ],
      "text/plain": [
       "  id class math english science\n",
       "2 2  1     60   97      60     "
      ]
     },
     "metadata": {},
     "output_type": "display_data"
    }
   ],
   "source": [
    "exam[2, ]   # 2행 추출"
   ]
  },
  {
   "cell_type": "code",
   "execution_count": 7,
   "metadata": {},
   "outputs": [],
   "source": [
    "### 조건을 충족하는 행 추출하기"
   ]
  },
  {
   "cell_type": "code",
   "execution_count": 11,
   "metadata": {},
   "outputs": [
    {
     "name": "stderr",
     "output_type": "stream",
     "text": [
      "\n",
      "Attaching package: 'dplyr'\n",
      "\n",
      "The following objects are masked from 'package:stats':\n",
      "\n",
      "    filter, lag\n",
      "\n",
      "The following objects are masked from 'package:base':\n",
      "\n",
      "    intersect, setdiff, setequal, union\n",
      "\n"
     ]
    }
   ],
   "source": [
    "library(dplyr)\n",
    "mpg <- as.data.frame(ggplot2::mpg)"
   ]
  },
  {
   "cell_type": "code",
   "execution_count": 12,
   "metadata": {},
   "outputs": [
    {
     "data": {
      "text/html": [
       "<table>\n",
       "<thead><tr><th scope=col>class</th><th scope=col>mean_tot</th></tr></thead>\n",
       "<tbody>\n",
       "\t<tr><td>compact </td><td>24.21277</td></tr>\n",
       "\t<tr><td>suv     </td><td>15.81452</td></tr>\n",
       "</tbody>\n",
       "</table>\n"
      ],
      "text/latex": [
       "\\begin{tabular}{r|ll}\n",
       " class & mean\\_tot\\\\\n",
       "\\hline\n",
       "\t compact  & 24.21277\\\\\n",
       "\t suv      & 15.81452\\\\\n",
       "\\end{tabular}\n"
      ],
      "text/markdown": [
       "\n",
       "class | mean_tot | \n",
       "|---|---|\n",
       "| compact  | 24.21277 | \n",
       "| suv      | 15.81452 | \n",
       "\n",
       "\n"
      ],
      "text/plain": [
       "  class   mean_tot\n",
       "1 compact 24.21277\n",
       "2 suv     15.81452"
      ]
     },
     "metadata": {},
     "output_type": "display_data"
    }
   ],
   "source": [
    "mpg %>%\n",
    "    mutate(tot = (cty + hwy)/2) %>%\n",
    "    filter(class == 'compact' | class == 'suv') %>%\n",
    "    group_by(class) %>%\n",
    "    summarise(mean_tot = mean(tot))"
   ]
  },
  {
   "cell_type": "markdown",
   "metadata": {},
   "source": [
    "## 변수 타입\n",
    "- 연속 변수\n",
    "- 범주 변수\n",
    "\n",
    "| 변수 | Data Type | 예 |\n",
    "|---- |----        |----|\n",
    "| 연속변수 | Numeric | 키, 몸무게 |\n",
    "| 범주변수 | Factor | 성별(1,2), 지역(1,2,3,4) |"
   ]
  },
  {
   "cell_type": "markdown",
   "metadata": {},
   "source": [
    "## 정리하기"
   ]
  },
  {
   "cell_type": "code",
   "execution_count": 16,
   "metadata": {},
   "outputs": [
    {
     "data": {
      "text/html": [
       "<table>\n",
       "<thead><tr><th scope=col>id</th><th scope=col>class</th><th scope=col>math</th><th scope=col>english</th><th scope=col>science</th></tr></thead>\n",
       "<tbody>\n",
       "\t<tr><td>1 </td><td>1 </td><td>50</td><td>98</td><td>50</td></tr>\n",
       "</tbody>\n",
       "</table>\n"
      ],
      "text/latex": [
       "\\begin{tabular}{r|lllll}\n",
       " id & class & math & english & science\\\\\n",
       "\\hline\n",
       "\t 1  & 1  & 50 & 98 & 50\\\\\n",
       "\\end{tabular}\n"
      ],
      "text/markdown": [
       "\n",
       "id | class | math | english | science | \n",
       "|---|\n",
       "| 1  | 1  | 50 | 98 | 50 | \n",
       "\n",
       "\n"
      ],
      "text/plain": [
       "  id class math english science\n",
       "1 1  1     50   98      50     "
      ]
     },
     "metadata": {},
     "output_type": "display_data"
    }
   ],
   "source": [
    "## 1. 데이터 추출하기\n",
    "exam[1,]"
   ]
  },
  {
   "cell_type": "code",
   "execution_count": 17,
   "metadata": {},
   "outputs": [
    {
     "data": {
      "text/html": [
       "<table>\n",
       "<thead><tr><th scope=col>id</th><th scope=col>class</th><th scope=col>math</th><th scope=col>english</th><th scope=col>science</th></tr></thead>\n",
       "<tbody>\n",
       "\t<tr><td>1 </td><td>1 </td><td>50</td><td>98</td><td>50</td></tr>\n",
       "\t<tr><td>2 </td><td>1 </td><td>60</td><td>97</td><td>60</td></tr>\n",
       "\t<tr><td>3 </td><td>1 </td><td>45</td><td>86</td><td>78</td></tr>\n",
       "\t<tr><td>4 </td><td>1 </td><td>30</td><td>98</td><td>58</td></tr>\n",
       "</tbody>\n",
       "</table>\n"
      ],
      "text/latex": [
       "\\begin{tabular}{r|lllll}\n",
       " id & class & math & english & science\\\\\n",
       "\\hline\n",
       "\t 1  & 1  & 50 & 98 & 50\\\\\n",
       "\t 2  & 1  & 60 & 97 & 60\\\\\n",
       "\t 3  & 1  & 45 & 86 & 78\\\\\n",
       "\t 4  & 1  & 30 & 98 & 58\\\\\n",
       "\\end{tabular}\n"
      ],
      "text/markdown": [
       "\n",
       "id | class | math | english | science | \n",
       "|---|---|---|---|\n",
       "| 1  | 1  | 50 | 98 | 50 | \n",
       "| 2  | 1  | 60 | 97 | 60 | \n",
       "| 3  | 1  | 45 | 86 | 78 | \n",
       "| 4  | 1  | 30 | 98 | 58 | \n",
       "\n",
       "\n"
      ],
      "text/plain": [
       "  id class math english science\n",
       "1 1  1     50   98      50     \n",
       "2 2  1     60   97      60     \n",
       "3 3  1     45   86      78     \n",
       "4 4  1     30   98      58     "
      ]
     },
     "metadata": {},
     "output_type": "display_data"
    }
   ],
   "source": [
    "exam[exam$class == 1, ]"
   ]
  },
  {
   "cell_type": "code",
   "execution_count": 18,
   "metadata": {},
   "outputs": [
    {
     "data": {
      "text/html": [
       "<table>\n",
       "<thead><tr><th scope=col>id</th><th scope=col>class</th><th scope=col>math</th><th scope=col>english</th><th scope=col>science</th></tr></thead>\n",
       "<tbody>\n",
       "\t<tr><td>1 </td><td>1 </td><td>50</td><td>98</td><td>50</td></tr>\n",
       "\t<tr><td>2 </td><td>1 </td><td>60</td><td>97</td><td>60</td></tr>\n",
       "</tbody>\n",
       "</table>\n"
      ],
      "text/latex": [
       "\\begin{tabular}{r|lllll}\n",
       " id & class & math & english & science\\\\\n",
       "\\hline\n",
       "\t 1  & 1  & 50 & 98 & 50\\\\\n",
       "\t 2  & 1  & 60 & 97 & 60\\\\\n",
       "\\end{tabular}\n"
      ],
      "text/markdown": [
       "\n",
       "id | class | math | english | science | \n",
       "|---|---|\n",
       "| 1  | 1  | 50 | 98 | 50 | \n",
       "| 2  | 1  | 60 | 97 | 60 | \n",
       "\n",
       "\n"
      ],
      "text/plain": [
       "  id class math english science\n",
       "1 1  1     50   98      50     \n",
       "2 2  1     60   97      60     "
      ]
     },
     "metadata": {},
     "output_type": "display_data"
    }
   ],
   "source": [
    "exam[exam$class == 1 & exam$math >= 50, ]"
   ]
  },
  {
   "cell_type": "code",
   "execution_count": 19,
   "metadata": {},
   "outputs": [
    {
     "data": {
      "text/html": [
       "<ol class=list-inline>\n",
       "\t<li>1</li>\n",
       "\t<li>2</li>\n",
       "\t<li>3</li>\n",
       "\t<li>4</li>\n",
       "\t<li>5</li>\n",
       "\t<li>6</li>\n",
       "\t<li>7</li>\n",
       "\t<li>8</li>\n",
       "\t<li>9</li>\n",
       "\t<li>10</li>\n",
       "\t<li>11</li>\n",
       "\t<li>12</li>\n",
       "\t<li>13</li>\n",
       "\t<li>14</li>\n",
       "\t<li>15</li>\n",
       "\t<li>16</li>\n",
       "\t<li>17</li>\n",
       "\t<li>18</li>\n",
       "\t<li>19</li>\n",
       "\t<li>20</li>\n",
       "</ol>\n"
      ],
      "text/latex": [
       "\\begin{enumerate*}\n",
       "\\item 1\n",
       "\\item 2\n",
       "\\item 3\n",
       "\\item 4\n",
       "\\item 5\n",
       "\\item 6\n",
       "\\item 7\n",
       "\\item 8\n",
       "\\item 9\n",
       "\\item 10\n",
       "\\item 11\n",
       "\\item 12\n",
       "\\item 13\n",
       "\\item 14\n",
       "\\item 15\n",
       "\\item 16\n",
       "\\item 17\n",
       "\\item 18\n",
       "\\item 19\n",
       "\\item 20\n",
       "\\end{enumerate*}\n"
      ],
      "text/markdown": [
       "1. 1\n",
       "2. 2\n",
       "3. 3\n",
       "4. 4\n",
       "5. 5\n",
       "6. 6\n",
       "7. 7\n",
       "8. 8\n",
       "9. 9\n",
       "10. 10\n",
       "11. 11\n",
       "12. 12\n",
       "13. 13\n",
       "14. 14\n",
       "15. 15\n",
       "16. 16\n",
       "17. 17\n",
       "18. 18\n",
       "19. 19\n",
       "20. 20\n",
       "\n",
       "\n"
      ],
      "text/plain": [
       " [1]  1  2  3  4  5  6  7  8  9 10 11 12 13 14 15 16 17 18 19 20"
      ]
     },
     "metadata": {},
     "output_type": "display_data"
    }
   ],
   "source": [
    "exam [, 1]"
   ]
  },
  {
   "cell_type": "markdown",
   "metadata": {},
   "source": [
    "## 2. 변수 타입"
   ]
  },
  {
   "cell_type": "code",
   "execution_count": 21,
   "metadata": {},
   "outputs": [],
   "source": [
    "var <- c(1,2,3,1,2)"
   ]
  },
  {
   "cell_type": "code",
   "execution_count": null,
   "metadata": {},
   "outputs": [],
   "source": []
  },
  {
   "cell_type": "code",
   "execution_count": null,
   "metadata": {},
   "outputs": [],
   "source": []
  }
 ],
 "metadata": {
  "kernelspec": {
   "display_name": "R 3.5",
   "language": "R",
   "name": "ir35"
  },
  "language_info": {
   "codemirror_mode": "r",
   "file_extension": ".r",
   "mimetype": "text/x-r-source",
   "name": "R",
   "pygments_lexer": "r",
   "version": "3.5.1"
  }
 },
 "nbformat": 4,
 "nbformat_minor": 2
}
