{
 "cells": [
  {
   "cell_type": "markdown",
   "metadata": {},
   "source": [
    "# 텍스트 마이닝\n",
    "\n",
    "## 힙합 가사 텍스트 마이닝\n",
    "\n",
    "### 1. 패키지 준비하기\n",
    "\n",
    "KoNLP(Korean Natural Language Processing)"
   ]
  },
  {
   "cell_type": "code",
   "execution_count": 1,
   "metadata": {},
   "outputs": [
    {
     "name": "stderr",
     "output_type": "stream",
     "text": [
      "Installing package into 'C:/Users/Playdata/Documents/R/win-library/3.5'\n",
      "(as 'lib' is unspecified)\n"
     ]
    },
    {
     "name": "stdout",
     "output_type": "stream",
     "text": [
      "package 'rJava' successfully unpacked and MD5 sums checked\n",
      "\n",
      "The downloaded binary packages are in\n",
      "\tC:\\Users\\Playdata\\AppData\\Local\\Temp\\Rtmp6xjdT6\\downloaded_packages\n"
     ]
    },
    {
     "name": "stderr",
     "output_type": "stream",
     "text": [
      "Installing package into 'C:/Users/Playdata/Documents/R/win-library/3.5'\n",
      "(as 'lib' is unspecified)\n"
     ]
    },
    {
     "name": "stdout",
     "output_type": "stream",
     "text": [
      "package 'memoise' successfully unpacked and MD5 sums checked\n",
      "\n",
      "The downloaded binary packages are in\n",
      "\tC:\\Users\\Playdata\\AppData\\Local\\Temp\\Rtmp6xjdT6\\downloaded_packages\n"
     ]
    },
    {
     "name": "stderr",
     "output_type": "stream",
     "text": [
      "Installing package into 'C:/Users/Playdata/Documents/R/win-library/3.5'\n",
      "(as 'lib' is unspecified)\n"
     ]
    },
    {
     "name": "stdout",
     "output_type": "stream",
     "text": [
      "package 'KoNLP' successfully unpacked and MD5 sums checked\n",
      "\n",
      "The downloaded binary packages are in\n",
      "\tC:\\Users\\Playdata\\AppData\\Local\\Temp\\Rtmp6xjdT6\\downloaded_packages\n"
     ]
    }
   ],
   "source": [
    "# 패키지 설치\n",
    "install.packages(\"rJava\")\n",
    "install.packages(\"memoise\")\n",
    "install.packages(\"KoNLP\")"
   ]
  },
  {
   "cell_type": "code",
   "execution_count": null,
   "metadata": {},
   "outputs": [],
   "source": [
    "# 패키지 로드\n",
    "library(KoNLP)\n",
    "library(dplyr)"
   ]
  },
  {
   "cell_type": "code",
   "execution_count": 3,
   "metadata": {},
   "outputs": [
    {
     "name": "stdout",
     "output_type": "stream",
     "text": [
      "Backup was just finished!\n",
      "983012 words dictionary was built.\n"
     ]
    }
   ],
   "source": [
    "# 사전 설정하기\n",
    "useNIADic()"
   ]
  },
  {
   "cell_type": "markdown",
   "metadata": {},
   "source": [
    "### 데이터 준비하기\n",
    "\n",
    "bit.ly/doit_rd `hiphop.txt` 다운로드\n",
    "\n",
    "`data/hiphop.txt` 파일 사용"
   ]
  },
  {
   "cell_type": "code",
   "execution_count": 4,
   "metadata": {},
   "outputs": [
    {
     "name": "stderr",
     "output_type": "stream",
     "text": [
      "Warning message in readLines(\"data/hiphop.txt\"):\n",
      "\"'data/hiphop.txt'에서 불완전한 마지막 행이 발견되었습니다\""
     ]
    },
    {
     "data": {
      "text/html": [
       "<ol class=list-inline>\n",
       "\t<li>'\"보고 싶다'</li>\n",
       "\t<li>'이렇게 말하니까 더 보고 싶다'</li>\n",
       "\t<li>'너희 사진을 보고 있어도'</li>\n",
       "\t<li>'보고 싶다'</li>\n",
       "\t<li>'너무 야속한 시간'</li>\n",
       "\t<li>'나는 우리가 밉다'</li>\n",
       "</ol>\n"
      ],
      "text/latex": [
       "\\begin{enumerate*}\n",
       "\\item '\"보고 싶다'\n",
       "\\item '이렇게 말하니까 더 보고 싶다'\n",
       "\\item '너희 사진을 보고 있어도'\n",
       "\\item '보고 싶다'\n",
       "\\item '너무 야속한 시간'\n",
       "\\item '나는 우리가 밉다'\n",
       "\\end{enumerate*}\n"
      ],
      "text/markdown": [
       "1. '\"보고 싶다'\n",
       "2. '이렇게 말하니까 더 보고 싶다'\n",
       "3. '너희 사진을 보고 있어도'\n",
       "4. '보고 싶다'\n",
       "5. '너무 야속한 시간'\n",
       "6. '나는 우리가 밉다'\n",
       "\n",
       "\n"
      ],
      "text/plain": [
       "[1] \"\\\"보고 싶다\"                  \"이렇게 말하니까 더 보고 싶다\"\n",
       "[3] \"너희 사진을 보고 있어도\"      \"보고 싶다\"                   \n",
       "[5] \"너무 야속한 시간\"             \"나는 우리가 밉다\"            "
      ]
     },
     "metadata": {},
     "output_type": "display_data"
    }
   ],
   "source": [
    "# 데이터 불러오기\n",
    "txt <- readLines('data/hiphop.txt')\n",
    "head(txt)"
   ]
  },
  {
   "cell_type": "markdown",
   "metadata": {},
   "source": [
    "### 특수문자 제거하기"
   ]
  },
  {
   "cell_type": "code",
   "execution_count": 5,
   "metadata": {},
   "outputs": [
    {
     "name": "stderr",
     "output_type": "stream",
     "text": [
      "Installing package into 'C:/Users/Playdata/Documents/R/win-library/3.5'\n",
      "(as 'lib' is unspecified)\n"
     ]
    },
    {
     "name": "stdout",
     "output_type": "stream",
     "text": [
      "package 'stringr' successfully unpacked and MD5 sums checked\n",
      "\n",
      "The downloaded binary packages are in\n",
      "\tC:\\Users\\Playdata\\AppData\\Local\\Temp\\Rtmp6xjdT6\\downloaded_packages\n"
     ]
    }
   ],
   "source": [
    "install.packages('stringr')\n",
    "library(stringr)\n",
    "\n",
    "# 특수문자 제거\n",
    "txt <- str_replace_all(txt, '\\\\W', ' ')"
   ]
  },
  {
   "cell_type": "code",
   "execution_count": 6,
   "metadata": {},
   "outputs": [
    {
     "data": {
      "text/html": [
       "<ol class=list-inline>\n",
       "\t<li>' 보고 싶다'</li>\n",
       "\t<li>'이렇게 말하니까 더 보고 싶다'</li>\n",
       "\t<li>'너희 사진을 보고 있어도'</li>\n",
       "\t<li>'보고 싶다'</li>\n",
       "\t<li>'너무 야속한 시간'</li>\n",
       "\t<li>'나는 우리가 밉다'</li>\n",
       "</ol>\n"
      ],
      "text/latex": [
       "\\begin{enumerate*}\n",
       "\\item ' 보고 싶다'\n",
       "\\item '이렇게 말하니까 더 보고 싶다'\n",
       "\\item '너희 사진을 보고 있어도'\n",
       "\\item '보고 싶다'\n",
       "\\item '너무 야속한 시간'\n",
       "\\item '나는 우리가 밉다'\n",
       "\\end{enumerate*}\n"
      ],
      "text/markdown": [
       "1. ' 보고 싶다'\n",
       "2. '이렇게 말하니까 더 보고 싶다'\n",
       "3. '너희 사진을 보고 있어도'\n",
       "4. '보고 싶다'\n",
       "5. '너무 야속한 시간'\n",
       "6. '나는 우리가 밉다'\n",
       "\n",
       "\n"
      ],
      "text/plain": [
       "[1] \" 보고 싶다\"                   \"이렇게 말하니까 더 보고 싶다\"\n",
       "[3] \"너희 사진을 보고 있어도\"      \"보고 싶다\"                   \n",
       "[5] \"너무 야속한 시간\"             \"나는 우리가 밉다\"            "
      ]
     },
     "metadata": {},
     "output_type": "display_data"
    }
   ],
   "source": [
    "head(txt)"
   ]
  },
  {
   "cell_type": "markdown",
   "metadata": {},
   "source": [
    "## 가장 많이 사용된 단어 알아보기\n",
    "\n",
    "### 1. 명사 추출하기\n",
    "\n",
    "KoNLP 의 `extractNoun()` 를 이용하면 문장에서 명사를 추출할 수 있다."
   ]
  },
  {
   "cell_type": "code",
   "execution_count": 7,
   "metadata": {},
   "outputs": [
    {
     "data": {
      "text/html": [
       "<ol class=list-inline>\n",
       "\t<li>'대한민국'</li>\n",
       "\t<li>'영토'</li>\n",
       "\t<li>'한반도'</li>\n",
       "\t<li>'부속도서'</li>\n",
       "\t<li>'한'</li>\n",
       "</ol>\n"
      ],
      "text/latex": [
       "\\begin{enumerate*}\n",
       "\\item '대한민국'\n",
       "\\item '영토'\n",
       "\\item '한반도'\n",
       "\\item '부속도서'\n",
       "\\item '한'\n",
       "\\end{enumerate*}\n"
      ],
      "text/markdown": [
       "1. '대한민국'\n",
       "2. '영토'\n",
       "3. '한반도'\n",
       "4. '부속도서'\n",
       "5. '한'\n",
       "\n",
       "\n"
      ],
      "text/plain": [
       "[1] \"대한민국\" \"영토\"     \"한반도\"   \"부속도서\" \"한\"      "
      ]
     },
     "metadata": {},
     "output_type": "display_data"
    }
   ],
   "source": [
    "extractNoun('대한민국의 영토는 한반도와 그 부속도서로 한다')"
   ]
  },
  {
   "cell_type": "code",
   "execution_count": 8,
   "metadata": {},
   "outputs": [
    {
     "data": {
      "text/html": [
       "<table>\n",
       "<thead><tr><th scope=col>Var1</th><th scope=col>Freq</th></tr></thead>\n",
       "<tbody>\n",
       "\t<tr><td>   </td><td>12 </td></tr>\n",
       "\t<tr><td>   </td><td> 2 </td></tr>\n",
       "\t<tr><td>1  </td><td> 9 </td></tr>\n",
       "\t<tr><td>100</td><td> 3 </td></tr>\n",
       "\t<tr><td>168</td><td> 1 </td></tr>\n",
       "\t<tr><td>17 </td><td> 1 </td></tr>\n",
       "</tbody>\n",
       "</table>\n"
      ],
      "text/latex": [
       "\\begin{tabular}{r|ll}\n",
       " Var1 & Freq\\\\\n",
       "\\hline\n",
       "\t     & 12 \\\\\n",
       "\t     &  2 \\\\\n",
       "\t 1   &  9 \\\\\n",
       "\t 100 &  3 \\\\\n",
       "\t 168 &  1 \\\\\n",
       "\t 17  &  1 \\\\\n",
       "\\end{tabular}\n"
      ],
      "text/markdown": [
       "\n",
       "Var1 | Freq | \n",
       "|---|---|---|---|---|---|\n",
       "|     | 12  | \n",
       "|     |  2  | \n",
       "| 1   |  9  | \n",
       "| 100 |  3  | \n",
       "| 168 |  1  | \n",
       "| 17  |  1  | \n",
       "\n",
       "\n"
      ],
      "text/plain": [
       "  Var1 Freq\n",
       "1      12  \n",
       "2       2  \n",
       "3 1     9  \n",
       "4 100   3  \n",
       "5 168   1  \n",
       "6 17    1  "
      ]
     },
     "metadata": {},
     "output_type": "display_data"
    }
   ],
   "source": [
    "# 가사에서 명사 추출\n",
    "nouns <- extractNoun(txt)\n",
    "# 추출한 명사 list를 문자열 벡터로 변환, 단어별 빈도표 생성\n",
    "wordcount <- table(unlist(nouns))\n",
    "# 데이터 프레임으로 변환\n",
    "df_word <- as.data.frame(wordcount, stringasFactors = F)\n",
    "head(df_word)"
   ]
  },
  {
   "cell_type": "code",
   "execution_count": null,
   "metadata": {},
   "outputs": [],
   "source": [
    "# 변수명 수정\n",
    "#df_word <- rename(df_word, word = Var1, freq = Freq)\n",
    "head(df_word)"
   ]
  },
  {
   "cell_type": "markdown",
   "metadata": {},
   "source": [
    "### 자주 사용된 단어 빈도표 만들기"
   ]
  },
  {
   "cell_type": "code",
   "execution_count": null,
   "metadata": {},
   "outputs": [],
   "source": [
    "# 두 글자 이상 단어 추출\n",
    "df_word <- filter(df_word, nchar(word) >= 2)\n",
    "head(df_word)"
   ]
  },
  {
   "cell_type": "code",
   "execution_count": null,
   "metadata": {},
   "outputs": [],
   "source": [
    "top_20 <- df_word %>%\n",
    "    arrange(desc(freq)) %>%\n",
    "    head(20)\n",
    "top_20"
   ]
  },
  {
   "cell_type": "code",
   "execution_count": null,
   "metadata": {},
   "outputs": [],
   "source": []
  },
  {
   "cell_type": "code",
   "execution_count": null,
   "metadata": {},
   "outputs": [],
   "source": []
  },
  {
   "cell_type": "code",
   "execution_count": null,
   "metadata": {},
   "outputs": [],
   "source": []
  },
  {
   "cell_type": "code",
   "execution_count": null,
   "metadata": {},
   "outputs": [],
   "source": []
  },
  {
   "cell_type": "code",
   "execution_count": null,
   "metadata": {},
   "outputs": [],
   "source": []
  },
  {
   "cell_type": "code",
   "execution_count": null,
   "metadata": {},
   "outputs": [],
   "source": []
  },
  {
   "cell_type": "code",
   "execution_count": null,
   "metadata": {},
   "outputs": [],
   "source": []
  }
 ],
 "metadata": {
  "kernelspec": {
   "display_name": "R 3.5",
   "language": "R",
   "name": "ir35"
  },
  "language_info": {
   "codemirror_mode": "r",
   "file_extension": ".r",
   "mimetype": "text/x-r-source",
   "name": "R",
   "pygments_lexer": "r",
   "version": "3.5.1"
  }
 },
 "nbformat": 4,
 "nbformat_minor": 2
}
