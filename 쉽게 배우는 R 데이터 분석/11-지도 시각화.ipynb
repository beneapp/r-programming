{
 "cells": [
  {
   "cell_type": "code",
   "execution_count": 1,
   "metadata": {},
   "outputs": [],
   "source": [
    "# 지도 시각화\n",
    "## 미국 주별 강력 범죄율 단계 구분도 만들기\n",
    "### 패키지 준비하기\n",
    "\n",
    "install.packages('ggiraphExtra')\n",
    "library(ggiraphExtra)"
   ]
  },
  {
   "cell_type": "code",
   "execution_count": 2,
   "metadata": {},
   "outputs": [
    {
     "name": "stderr",
     "output_type": "stream",
     "text": [
      "Installing package into 'C:/Users/Playdata/Documents/R/win-library/3.5'\n",
      "(as 'lib' is unspecified)\n",
      "also installing the dependencies 'gdtools', 'forcats', 'hms', 'readr', 'ps', 'zip', 'nortest', 'htmlwidgets', 'rvg', 'xml2', 'broom', 'haven', 'prediction', 'snakecase', 'stringdist', 'processx', 'tweenr', 'units', 'flextable', 'officer', 'moonBook', 'ggiraph', 'mycor', 'ppcor', 'sjlabelled', 'sjmisc', 'webshot', 'tidyr', 'ggforce', 'ztable'\n",
      "\n"
     ]
    },
    {
     "name": "stdout",
     "output_type": "stream",
     "text": [
      "\n",
      "  There are binary versions available but the source versions are later:\n",
      "           binary source needs_compilation\n",
      "sjlabelled 1.0.13 1.0.14             FALSE\n",
      "sjmisc      2.7.4  2.7.5             FALSE\n",
      "\n",
      "package 'gdtools' successfully unpacked and MD5 sums checked\n",
      "package 'forcats' successfully unpacked and MD5 sums checked\n",
      "package 'hms' successfully unpacked and MD5 sums checked\n",
      "package 'readr' successfully unpacked and MD5 sums checked\n",
      "package 'ps' successfully unpacked and MD5 sums checked\n",
      "package 'zip' successfully unpacked and MD5 sums checked\n",
      "package 'nortest' successfully unpacked and MD5 sums checked\n",
      "package 'htmlwidgets' successfully unpacked and MD5 sums checked\n",
      "package 'rvg' successfully unpacked and MD5 sums checked\n",
      "package 'xml2' successfully unpacked and MD5 sums checked\n",
      "package 'broom' successfully unpacked and MD5 sums checked\n",
      "package 'haven' successfully unpacked and MD5 sums checked\n",
      "package 'prediction' successfully unpacked and MD5 sums checked\n",
      "package 'snakecase' successfully unpacked and MD5 sums checked\n",
      "package 'stringdist' successfully unpacked and MD5 sums checked\n",
      "package 'processx' successfully unpacked and MD5 sums checked\n",
      "package 'tweenr' successfully unpacked and MD5 sums checked\n",
      "package 'units' successfully unpacked and MD5 sums checked\n",
      "package 'flextable' successfully unpacked and MD5 sums checked\n",
      "package 'officer' successfully unpacked and MD5 sums checked\n",
      "package 'moonBook' successfully unpacked and MD5 sums checked\n",
      "package 'ggiraph' successfully unpacked and MD5 sums checked\n",
      "package 'mycor' successfully unpacked and MD5 sums checked\n",
      "package 'ppcor' successfully unpacked and MD5 sums checked\n",
      "package 'webshot' successfully unpacked and MD5 sums checked\n",
      "package 'tidyr' successfully unpacked and MD5 sums checked\n",
      "package 'ggforce' successfully unpacked and MD5 sums checked\n",
      "package 'ztable' successfully unpacked and MD5 sums checked\n",
      "package 'ggiraphExtra' successfully unpacked and MD5 sums checked\n",
      "\n",
      "The downloaded binary packages are in\n",
      "\tC:\\Users\\Playdata\\AppData\\Local\\Temp\\RtmpAVIAzu\\downloaded_packages\n"
     ]
    },
    {
     "name": "stderr",
     "output_type": "stream",
     "text": [
      "installing the source packages 'sjlabelled', 'sjmisc'\n",
      "\n"
     ]
    }
   ],
   "source": [
    "### 미국 주별 범죄 데이터 준비하기\n",
    "str(USArrests)"
   ]
  },
  {
   "cell_type": "code",
   "execution_count": 3,
   "metadata": {},
   "outputs": [
    {
     "name": "stdout",
     "output_type": "stream",
     "text": [
      "'data.frame':\t50 obs. of  4 variables:\n",
      " $ Murder  : num  13.2 10 8.1 8.8 9 7.9 3.3 5.9 15.4 17.4 ...\n",
      " $ Assault : int  236 263 294 190 276 204 110 238 335 211 ...\n",
      " $ UrbanPop: int  58 48 80 50 91 78 77 72 80 60 ...\n",
      " $ Rape    : num  21.2 44.5 31 19.5 40.6 38.7 11.1 15.8 31.9 25.8 ...\n"
     ]
    }
   ],
   "source": [
    "### 미국 주별 범죄 데이터 준비하기\n",
    "str(USArrests)"
   ]
  },
  {
   "cell_type": "code",
   "execution_count": 4,
   "metadata": {},
   "outputs": [
    {
     "data": {
      "text/html": [
       "<table>\n",
       "<thead><tr><th></th><th scope=col>Murder</th><th scope=col>Assault</th><th scope=col>UrbanPop</th><th scope=col>Rape</th></tr></thead>\n",
       "<tbody>\n",
       "\t<tr><th scope=row>Alabama</th><td>13.2</td><td>236 </td><td>58  </td><td>21.2</td></tr>\n",
       "\t<tr><th scope=row>Alaska</th><td>10.0</td><td>263 </td><td>48  </td><td>44.5</td></tr>\n",
       "\t<tr><th scope=row>Arizona</th><td> 8.1</td><td>294 </td><td>80  </td><td>31.0</td></tr>\n",
       "\t<tr><th scope=row>Arkansas</th><td> 8.8</td><td>190 </td><td>50  </td><td>19.5</td></tr>\n",
       "\t<tr><th scope=row>California</th><td> 9.0</td><td>276 </td><td>91  </td><td>40.6</td></tr>\n",
       "\t<tr><th scope=row>Colorado</th><td> 7.9</td><td>204 </td><td>78  </td><td>38.7</td></tr>\n",
       "</tbody>\n",
       "</table>\n"
      ],
      "text/latex": [
       "\\begin{tabular}{r|llll}\n",
       "  & Murder & Assault & UrbanPop & Rape\\\\\n",
       "\\hline\n",
       "\tAlabama & 13.2 & 236  & 58   & 21.2\\\\\n",
       "\tAlaska & 10.0 & 263  & 48   & 44.5\\\\\n",
       "\tArizona &  8.1 & 294  & 80   & 31.0\\\\\n",
       "\tArkansas &  8.8 & 190  & 50   & 19.5\\\\\n",
       "\tCalifornia &  9.0 & 276  & 91   & 40.6\\\\\n",
       "\tColorado &  7.9 & 204  & 78   & 38.7\\\\\n",
       "\\end{tabular}\n"
      ],
      "text/markdown": [
       "\n",
       "| <!--/--> | Murder | Assault | UrbanPop | Rape | \n",
       "|---|---|---|---|---|---|\n",
       "| Alabama | 13.2 | 236  | 58   | 21.2 | \n",
       "| Alaska | 10.0 | 263  | 48   | 44.5 | \n",
       "| Arizona |  8.1 | 294  | 80   | 31.0 | \n",
       "| Arkansas |  8.8 | 190  | 50   | 19.5 | \n",
       "| California |  9.0 | 276  | 91   | 40.6 | \n",
       "| Colorado |  7.9 | 204  | 78   | 38.7 | \n",
       "\n",
       "\n"
      ],
      "text/plain": [
       "           Murder Assault UrbanPop Rape\n",
       "Alabama    13.2   236     58       21.2\n",
       "Alaska     10.0   263     48       44.5\n",
       "Arizona     8.1   294     80       31.0\n",
       "Arkansas    8.8   190     50       19.5\n",
       "California  9.0   276     91       40.6\n",
       "Colorado    7.9   204     78       38.7"
      ]
     },
     "metadata": {},
     "output_type": "display_data"
    }
   ],
   "source": [
    "head(USArrests)"
   ]
  },
  {
   "cell_type": "code",
   "execution_count": 5,
   "metadata": {},
   "outputs": [],
   "source": [
    "library(tibble)"
   ]
  },
  {
   "cell_type": "code",
   "execution_count": 6,
   "metadata": {},
   "outputs": [],
   "source": [
    "crime <- rownames_to_column(USArrests, var = 'state')\n",
    "crime$state <- tolower(crime$state)"
   ]
  },
  {
   "cell_type": "code",
   "execution_count": 7,
   "metadata": {},
   "outputs": [
    {
     "name": "stdout",
     "output_type": "stream",
     "text": [
      "'data.frame':\t50 obs. of  5 variables:\n",
      " $ state   : chr  \"alabama\" \"alaska\" \"arizona\" \"arkansas\" ...\n",
      " $ Murder  : num  13.2 10 8.1 8.8 9 7.9 3.3 5.9 15.4 17.4 ...\n",
      " $ Assault : int  236 263 294 190 276 204 110 238 335 211 ...\n",
      " $ UrbanPop: int  58 48 80 50 91 78 77 72 80 60 ...\n",
      " $ Rape    : num  21.2 44.5 31 19.5 40.6 38.7 11.1 15.8 31.9 25.8 ...\n"
     ]
    }
   ],
   "source": [
    "str(crime)"
   ]
  },
  {
   "cell_type": "code",
   "execution_count": 9,
   "metadata": {},
   "outputs": [
    {
     "data": {
      "text/html": [
       "<table>\n",
       "<thead><tr><th scope=col>state</th><th scope=col>Murder</th><th scope=col>Assault</th><th scope=col>UrbanPop</th><th scope=col>Rape</th></tr></thead>\n",
       "<tbody>\n",
       "\t<tr><td>alabama   </td><td>13.2      </td><td>236       </td><td>58        </td><td>21.2      </td></tr>\n",
       "\t<tr><td>alaska    </td><td>10.0      </td><td>263       </td><td>48        </td><td>44.5      </td></tr>\n",
       "\t<tr><td>arizona   </td><td> 8.1      </td><td>294       </td><td>80        </td><td>31.0      </td></tr>\n",
       "\t<tr><td>arkansas  </td><td> 8.8      </td><td>190       </td><td>50        </td><td>19.5      </td></tr>\n",
       "\t<tr><td>california</td><td> 9.0      </td><td>276       </td><td>91        </td><td>40.6      </td></tr>\n",
       "\t<tr><td>colorado  </td><td> 7.9      </td><td>204       </td><td>78        </td><td>38.7      </td></tr>\n",
       "</tbody>\n",
       "</table>\n"
      ],
      "text/latex": [
       "\\begin{tabular}{r|lllll}\n",
       " state & Murder & Assault & UrbanPop & Rape\\\\\n",
       "\\hline\n",
       "\t alabama    & 13.2       & 236        & 58         & 21.2      \\\\\n",
       "\t alaska     & 10.0       & 263        & 48         & 44.5      \\\\\n",
       "\t arizona    &  8.1       & 294        & 80         & 31.0      \\\\\n",
       "\t arkansas   &  8.8       & 190        & 50         & 19.5      \\\\\n",
       "\t california &  9.0       & 276        & 91         & 40.6      \\\\\n",
       "\t colorado   &  7.9       & 204        & 78         & 38.7      \\\\\n",
       "\\end{tabular}\n"
      ],
      "text/markdown": [
       "\n",
       "state | Murder | Assault | UrbanPop | Rape | \n",
       "|---|---|---|---|---|---|\n",
       "| alabama    | 13.2       | 236        | 58         | 21.2       | \n",
       "| alaska     | 10.0       | 263        | 48         | 44.5       | \n",
       "| arizona    |  8.1       | 294        | 80         | 31.0       | \n",
       "| arkansas   |  8.8       | 190        | 50         | 19.5       | \n",
       "| california |  9.0       | 276        | 91         | 40.6       | \n",
       "| colorado   |  7.9       | 204        | 78         | 38.7       | \n",
       "\n",
       "\n"
      ],
      "text/plain": [
       "  state      Murder Assault UrbanPop Rape\n",
       "1 alabama    13.2   236     58       21.2\n",
       "2 alaska     10.0   263     48       44.5\n",
       "3 arizona     8.1   294     80       31.0\n",
       "4 arkansas    8.8   190     50       19.5\n",
       "5 california  9.0   276     91       40.6\n",
       "6 colorado    7.9   204     78       38.7"
      ]
     },
     "metadata": {},
     "output_type": "display_data"
    }
   ],
   "source": [
    "head(crime)"
   ]
  },
  {
   "cell_type": "code",
   "execution_count": 12,
   "metadata": {},
   "outputs": [],
   "source": [
    "### 미국 주 지도 데이터 준비하기\n",
    "library(ggplot2)"
   ]
  },
  {
   "cell_type": "code",
   "execution_count": 14,
   "metadata": {},
   "outputs": [
    {
     "data": {
      "text/html": [
       "\n",
       "<table width=\"100%\" summary=\"page for map_data {ggplot2}\"><tr><td>map_data {ggplot2}</td><td style=\"text-align: right;\">R Documentation</td></tr></table>\n",
       "\n",
       "<h2>Create a data frame of map data</h2>\n",
       "\n",
       "<h3>Description</h3>\n",
       "\n",
       "<p>Easily turn data from the <span class=\"pkg\">maps</span> package in to a data frame suitable\n",
       "for plotting with ggplot2.\n",
       "</p>\n",
       "\n",
       "\n",
       "<h3>Usage</h3>\n",
       "\n",
       "<pre>\n",
       "map_data(map, region = \".\", exact = FALSE, ...)\n",
       "</pre>\n",
       "\n",
       "\n",
       "<h3>Arguments</h3>\n",
       "\n",
       "<table summary=\"R argblock\">\n",
       "<tr valign=\"top\"><td><code>map</code></td>\n",
       "<td>\n",
       "<p>name of map provided by the <span class=\"pkg\">maps</span> package.  These\n",
       "include <code>maps::county()</code>, <code>maps::france()</code>,\n",
       "<code>maps::italy()</code>, <code>maps::nz()</code>,\n",
       "<code>maps::state()</code>, <code>maps::usa()</code>,\n",
       "<code>maps::world()</code>, <code>maps::world2()</code>.</p>\n",
       "</td></tr>\n",
       "<tr valign=\"top\"><td><code>region</code></td>\n",
       "<td>\n",
       "<p>name of subregions to include.  Defaults to <code>.</code> which\n",
       "includes all subregion.  See documentation for <code>maps::map()</code>\n",
       "for more details.</p>\n",
       "</td></tr>\n",
       "<tr valign=\"top\"><td><code>exact</code></td>\n",
       "<td>\n",
       "<p>should the <code>region</code> be treated as a regular expression\n",
       "(<code>FALSE</code>) or as a fixed string (<code>TRUE</code>).</p>\n",
       "</td></tr>\n",
       "<tr valign=\"top\"><td><code>...</code></td>\n",
       "<td>\n",
       "<p>all other arguments passed on to <code>maps::map()</code></p>\n",
       "</td></tr>\n",
       "</table>\n",
       "\n",
       "\n",
       "<h3>Examples</h3>\n",
       "\n",
       "<pre>\n",
       "if (require(\"maps\")) {\n",
       "states &lt;- map_data(\"state\")\n",
       "arrests &lt;- USArrests\n",
       "names(arrests) &lt;- tolower(names(arrests))\n",
       "arrests$region &lt;- tolower(rownames(USArrests))\n",
       "\n",
       "choro &lt;- merge(states, arrests, sort = FALSE, by = \"region\")\n",
       "choro &lt;- choro[order(choro$order), ]\n",
       "ggplot(choro, aes(long, lat)) +\n",
       "  geom_polygon(aes(group = group, fill = assault)) +\n",
       "  coord_map(\"albers\",  at0 = 45.5, lat1 = 29.5)\n",
       "\n",
       "ggplot(choro, aes(long, lat)) +\n",
       "  geom_polygon(aes(group = group, fill = assault / murder)) +\n",
       "  coord_map(\"albers\",  at0 = 45.5, lat1 = 29.5)\n",
       "}\n",
       "</pre>\n",
       "\n",
       "<hr /><div style=\"text-align: center;\">[Package <em>ggplot2</em> version 3.0.0 ]</div>"
      ],
      "text/latex": [
       "\\inputencoding{utf8}\n",
       "\\HeaderA{map\\_data}{Create a data frame of map data}{map.Rul.data}\n",
       "\\keyword{internal}{map\\_data}\n",
       "%\n",
       "\\begin{Description}\\relax\n",
       "Easily turn data from the \\pkg{maps} package in to a data frame suitable\n",
       "for plotting with ggplot2.\n",
       "\\end{Description}\n",
       "%\n",
       "\\begin{Usage}\n",
       "\\begin{verbatim}\n",
       "map_data(map, region = \".\", exact = FALSE, ...)\n",
       "\\end{verbatim}\n",
       "\\end{Usage}\n",
       "%\n",
       "\\begin{Arguments}\n",
       "\\begin{ldescription}\n",
       "\\item[\\code{map}] name of map provided by the \\pkg{maps} package.  These\n",
       "include \\code{\\LinkA{maps::county()}{maps::county()}}, \\code{\\LinkA{maps::france()}{maps::france()}},\n",
       "\\code{\\LinkA{maps::italy()}{maps::italy()}}, \\code{\\LinkA{maps::nz()}{maps::nz()}},\n",
       "\\code{\\LinkA{maps::state()}{maps::state()}}, \\code{\\LinkA{maps::usa()}{maps::usa()}},\n",
       "\\code{\\LinkA{maps::world()}{maps::world()}}, \\code{\\LinkA{maps::world2()}{maps::world2()}}.\n",
       "\n",
       "\\item[\\code{region}] name of subregions to include.  Defaults to \\code{.} which\n",
       "includes all subregion.  See documentation for \\code{\\LinkA{maps::map()}{maps::map()}}\n",
       "for more details.\n",
       "\n",
       "\\item[\\code{exact}] should the \\code{region} be treated as a regular expression\n",
       "(\\code{FALSE}) or as a fixed string (\\code{TRUE}).\n",
       "\n",
       "\\item[\\code{...}] all other arguments passed on to \\code{\\LinkA{maps::map()}{maps::map()}}\n",
       "\\end{ldescription}\n",
       "\\end{Arguments}\n",
       "%\n",
       "\\begin{Examples}\n",
       "\\begin{ExampleCode}\n",
       "if (require(\"maps\")) {\n",
       "states <- map_data(\"state\")\n",
       "arrests <- USArrests\n",
       "names(arrests) <- tolower(names(arrests))\n",
       "arrests$region <- tolower(rownames(USArrests))\n",
       "\n",
       "choro <- merge(states, arrests, sort = FALSE, by = \"region\")\n",
       "choro <- choro[order(choro$order), ]\n",
       "ggplot(choro, aes(long, lat)) +\n",
       "  geom_polygon(aes(group = group, fill = assault)) +\n",
       "  coord_map(\"albers\",  at0 = 45.5, lat1 = 29.5)\n",
       "\n",
       "ggplot(choro, aes(long, lat)) +\n",
       "  geom_polygon(aes(group = group, fill = assault / murder)) +\n",
       "  coord_map(\"albers\",  at0 = 45.5, lat1 = 29.5)\n",
       "}\n",
       "\\end{ExampleCode}\n",
       "\\end{Examples}"
      ],
      "text/plain": [
       "map_data                package:ggplot2                R Documentation\n",
       "\n",
       "_\bC_\br_\be_\ba_\bt_\be _\ba _\bd_\ba_\bt_\ba _\bf_\br_\ba_\bm_\be _\bo_\bf _\bm_\ba_\bp _\bd_\ba_\bt_\ba\n",
       "\n",
       "_\bD_\be_\bs_\bc_\br_\bi_\bp_\bt_\bi_\bo_\bn:\n",
       "\n",
       "     Easily turn data from the 'maps' package in to a data frame\n",
       "     suitable for plotting with ggplot2.\n",
       "\n",
       "_\bU_\bs_\ba_\bg_\be:\n",
       "\n",
       "     map_data(map, region = \".\", exact = FALSE, ...)\n",
       "     \n",
       "_\bA_\br_\bg_\bu_\bm_\be_\bn_\bt_\bs:\n",
       "\n",
       "     map: name of map provided by the 'maps' package.  These include\n",
       "          'maps::county()', 'maps::france()', 'maps::italy()',\n",
       "          'maps::nz()', 'maps::state()', 'maps::usa()',\n",
       "          'maps::world()', 'maps::world2()'.\n",
       "\n",
       "  region: name of subregions to include.  Defaults to '.' which\n",
       "          includes all subregion.  See documentation for 'maps::map()'\n",
       "          for more details.\n",
       "\n",
       "   exact: should the 'region' be treated as a regular expression\n",
       "          ('FALSE') or as a fixed string ('TRUE').\n",
       "\n",
       "     ...: all other arguments passed on to 'maps::map()'\n",
       "\n",
       "_\bE_\bx_\ba_\bm_\bp_\bl_\be_\bs:\n",
       "\n",
       "     if (require(\"maps\")) {\n",
       "     states <- map_data(\"state\")\n",
       "     arrests <- USArrests\n",
       "     names(arrests) <- tolower(names(arrests))\n",
       "     arrests$region <- tolower(rownames(USArrests))\n",
       "     \n",
       "     choro <- merge(states, arrests, sort = FALSE, by = \"region\")\n",
       "     choro <- choro[order(choro$order), ]\n",
       "     ggplot(choro, aes(long, lat)) +\n",
       "       geom_polygon(aes(group = group, fill = assault)) +\n",
       "       coord_map(\"albers\",  at0 = 45.5, lat1 = 29.5)\n",
       "     \n",
       "     ggplot(choro, aes(long, lat)) +\n",
       "       geom_polygon(aes(group = group, fill = assault / murder)) +\n",
       "       coord_map(\"albers\",  at0 = 45.5, lat1 = 29.5)\n",
       "     }\n",
       "     "
      ]
     },
     "metadata": {},
     "output_type": "display_data"
    }
   ],
   "source": [
    "?map_data"
   ]
  },
  {
   "cell_type": "code",
   "execution_count": 18,
   "metadata": {},
   "outputs": [
    {
     "name": "stderr",
     "output_type": "stream",
     "text": [
      "Installing package into 'C:/Users/Playdata/Documents/R/win-library/3.5'\n",
      "(as 'lib' is unspecified)\n"
     ]
    },
    {
     "name": "stdout",
     "output_type": "stream",
     "text": [
      "package 'maps' successfully unpacked and MD5 sums checked\n",
      "\n",
      "The downloaded binary packages are in\n",
      "\tC:\\Users\\Playdata\\AppData\\Local\\Temp\\RtmpAVIAzu\\downloaded_packages\n"
     ]
    }
   ],
   "source": [
    "install.packages('maps')"
   ]
  },
  {
   "cell_type": "code",
   "execution_count": 19,
   "metadata": {},
   "outputs": [
    {
     "name": "stderr",
     "output_type": "stream",
     "text": [
      "Loading required package: maps\n"
     ]
    },
    {
     "name": "stdout",
     "output_type": "stream",
     "text": [
      "'data.frame':\t15537 obs. of  6 variables:\n",
      " $ long     : num  -87.5 -87.5 -87.5 -87.5 -87.6 ...\n",
      " $ lat      : num  30.4 30.4 30.4 30.3 30.3 ...\n",
      " $ group    : num  1 1 1 1 1 1 1 1 1 1 ...\n",
      " $ order    : int  1 2 3 4 5 6 7 8 9 10 ...\n",
      " $ region   : chr  \"alabama\" \"alabama\" \"alabama\" \"alabama\" ...\n",
      " $ subregion: chr  NA NA NA NA ...\n"
     ]
    }
   ],
   "source": [
    "if (require('maps')){\n",
    "    states_map <- map_data('state')\n",
    "    str(states_map)\n",
    "}"
   ]
  },
  {
   "cell_type": "code",
   "execution_count": 21,
   "metadata": {},
   "outputs": [
    {
     "name": "stderr",
     "output_type": "stream",
     "text": [
      "Installing package into 'C:/Users/Playdata/Documents/R/win-library/3.5'\n",
      "(as 'lib' is unspecified)\n"
     ]
    },
    {
     "name": "stdout",
     "output_type": "stream",
     "text": [
      "package 'mapproj' successfully unpacked and MD5 sums checked\n",
      "\n",
      "The downloaded binary packages are in\n",
      "\tC:\\Users\\Playdata\\AppData\\Local\\Temp\\RtmpAVIAzu\\downloaded_packages\n"
     ]
    }
   ],
   "source": [
    "install.packages('mapproj')"
   ]
  },
  {
   "cell_type": "code",
   "execution_count": 22,
   "metadata": {},
   "outputs": [
    {
     "data": {},
     "metadata": {},
     "output_type": "display_data"
    },
    {
     "data": {
      "image/png": "[encoded data removed]",
      "text/plain": [
       "plot without title"
      ]
     },
     "metadata": {},
     "output_type": "display_data"
    }
   ],
   "source": [
    "library(mapproj)\n",
    "ggChoropleth(data = crime,\n",
    "            aes(fill = Murder,\n",
    "               map_id = state),\n",
    "            map = states_map)"
   ]
  },
  {
   "cell_type": "code",
   "execution_count": 28,
   "metadata": {},
   "outputs": [
    {
     "name": "stderr",
     "output_type": "stream",
     "text": [
      "ERROR while rich displaying an object: Error in file(file, \"rb\"): 'description' 인자가 잘못되었습니다\n",
      "\n",
      "Traceback:\n",
      "1. FUN(X[[i]], ...)\n",
      "2. tryCatch(withCallingHandlers({\n",
      " .     rpr <- mime2repr[[mime]](obj)\n",
      " .     if (is.null(rpr)) \n",
      " .         return(NULL)\n",
      " .     prepare_content(is.raw(rpr), rpr)\n",
      " . }, error = error_handler), error = outer_handler)\n",
      "3. tryCatchList(expr, classes, parentenv, handlers)\n",
      "4. tryCatchOne(expr, names, parentenv, handlers[[1L]])\n",
      "5. doTryCatch(return(expr), name, parentenv, handler)\n",
      "6. withCallingHandlers({\n",
      " .     rpr <- mime2repr[[mime]](obj)\n",
      " .     if (is.null(rpr)) \n",
      " .         return(NULL)\n",
      " .     prepare_content(is.raw(rpr), rpr)\n",
      " . }, error = error_handler)\n",
      "7. mime2repr[[mime]](obj)\n",
      "8. repr_html.htmlwidget(obj)\n",
      "9. lapply(obj$dependencies, function(dep) {\n",
      " .     html <- c()\n",
      " .     if (length(dep$script) > 0) {\n",
      " .         f <- file.path(dep$src$file, dep$script)\n",
      " .         html <- c(html, sprintf(\"<script src=\\\"%s\\\"></script>\", \n",
      " .             dataURI(mime = \"application/javascript\", file = f)))\n",
      " .     }\n",
      " .     if (length(dep$stylesheet) > 0) {\n",
      " .         f <- file.path(dep$src$file, dep$stylesheet)\n",
      " .         html <- c(html, sprintf(\"<link href=\\\"%s\\\" rel=\\\"stylesheet\\\" />\", \n",
      " .             dataURI(mime = \"text/css;charset-utf-8\", file = f)))\n",
      " .     }\n",
      " .     paste(html, collapse = \"\\n\")\n",
      " . })\n",
      "10. FUN(X[[i]], ...)\n",
      "11. sprintf(\"<script src=\\\"%s\\\"></script>\", dataURI(mime = \"application/javascript\", \n",
      "  .     file = f))\n",
      "12. dataURI(mime = \"application/javascript\", file = f)\n",
      "13. file(file, \"rb\")\n"
     ]
    },
    {
     "data": {
      "text/plain": [
       "HTML widgets cannot be represented in plain text (need html)"
      ]
     },
     "metadata": {},
     "output_type": "display_data"
    }
   ],
   "source": [
    "ggChoropleth(data = crime,\n",
    "            aes(fill = Murder,\n",
    "               map_id = state),\n",
    "            map = states_map,\n",
    "            interactive = T)"
   ]
  }
 ],
 "metadata": {
  "kernelspec": {
   "display_name": "R 3.5",
   "language": "R",
   "name": "ir35"
  },
  "language_info": {
   "codemirror_mode": "r",
   "file_extension": ".r",
   "mimetype": "text/x-r-source",
   "name": "R",
   "pygments_lexer": "r",
   "version": "3.5.1"
  }
 },
 "nbformat": 4,
 "nbformat_minor": 2
}
